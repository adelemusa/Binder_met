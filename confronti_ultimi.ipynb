{
 "cells": [
  {
   "cell_type": "code",
   "execution_count": 1,
   "id": "b39c8c42-9b63-420e-80fc-58cfe9d8d60f",
   "metadata": {},
   "outputs": [],
   "source": [
    "source(\"metagenomicFunction.R\")\n",
    "source(\"analysis_f.R\")\n",
    "source(\"Krona.R\")\n",
    "oldw <- getOption(\"warn\") \n",
    "options(warn = -1)"
   ]
  },
  {
   "cell_type": "code",
   "execution_count": 2,
   "id": "44f80ab8-0df8-42f7-9caa-296606a67180",
   "metadata": {},
   "outputs": [
    {
     "name": "stderr",
     "output_type": "stream",
     "text": [
      "Caricamento del pacchetto richiesto: Biobase\n",
      "\n",
      "Caricamento del pacchetto richiesto: BiocGenerics\n",
      "\n",
      "\n",
      "Caricamento pacchetto: 'BiocGenerics'\n",
      "\n",
      "\n",
      "I seguenti oggetti sono mascherati da 'package:stats':\n",
      "\n",
      "    IQR, mad, sd, var, xtabs\n",
      "\n",
      "\n",
      "I seguenti oggetti sono mascherati da 'package:base':\n",
      "\n",
      "    anyDuplicated, append, as.data.frame, basename, cbind, colnames,\n",
      "    dirname, do.call, duplicated, eval, evalq, Filter, Find, get, grep,\n",
      "    grepl, intersect, is.unsorted, lapply, Map, mapply, match, mget,\n",
      "    order, paste, pmax, pmax.int, pmin, pmin.int, Position, rank,\n",
      "    rbind, Reduce, rownames, sapply, setdiff, sort, table, tapply,\n",
      "    union, unique, unsplit, which.max, which.min\n",
      "\n",
      "\n",
      "Welcome to Bioconductor\n",
      "\n",
      "    Vignettes contain introductory material; view with\n",
      "    'browseVignettes()'. To cite Bioconductor, see\n",
      "    'citation(\"Biobase\")', and for packages 'citation(\"pkgname\")'.\n",
      "\n",
      "\n",
      "\n",
      "Caricamento pacchetto: 'Biobase'\n",
      "\n",
      "\n",
      "Il seguente oggetto è mascherato da 'package:phyloseq':\n",
      "\n",
      "    sampleNames\n",
      "\n",
      "\n",
      "Caricamento del pacchetto richiesto: limma\n",
      "\n",
      "\n",
      "Caricamento pacchetto: 'limma'\n",
      "\n",
      "\n",
      "Il seguente oggetto è mascherato da 'package:BiocGenerics':\n",
      "\n",
      "    plotMA\n",
      "\n",
      "\n",
      "Caricamento del pacchetto richiesto: glmnet\n",
      "\n",
      "Caricamento del pacchetto richiesto: Matrix\n",
      "\n",
      "Loaded glmnet 4.1-3\n",
      "\n",
      "Caricamento del pacchetto richiesto: RColorBrewer\n",
      "\n",
      "\n",
      "Caricamento pacchetto: 'tidyr'\n",
      "\n",
      "\n",
      "I seguenti oggetti sono mascherati da 'package:Matrix':\n",
      "\n",
      "    expand, pack, unpack\n",
      "\n",
      "\n"
     ]
    },
    {
     "data": {
      "text/plain": [
       "phyloseq-class experiment-level object\n",
       "otu_table()   OTU Table:         [ 2870 taxa and 40 samples ]\n",
       "sample_data() Sample Data:       [ 40 samples by 4 sample variables ]\n",
       "tax_table()   Taxonomy Table:    [ 2870 taxa by 8 taxonomic ranks ]\n",
       "phy_tree()    Phylogenetic Tree: [ 2870 tips and 2795 internal nodes ]"
      ]
     },
     "metadata": {},
     "output_type": "display_data"
    }
   ],
   "source": [
    "library(\"phyloseq\")\n",
    "library('ape')\n",
    "library('metagenomeSeq')\n",
    " \n",
    "otu <- \"phyloseq/otu_table.tsv\"\n",
    "tax <- \"phyloseq/taxonomy_sklearn.tsv\"\n",
    "map <- \"Metadata/mapping.txt\"\n",
    "tree <- \"phyloseq/merged_rooted_tree.nwk\"\n",
    "\n",
    "phy <- phy.import(otu = otu, tax = tax, map = map, tree = tree)\n",
    "phy <- subset_samples(phy, sample != \"12_2\" & sample != \"20\")\n",
    "sample_data(phy)$status <- factor(sample_data(phy)$status, levels = c(\"sano\",\"necrosi\",\"periapicale\",\"endodonticamente\",\"endo-perio\"))\n",
    "phy"
   ]
  },
  {
   "cell_type": "code",
   "execution_count": 3,
   "id": "967e0b95-6bc8-47db-b4f1-0a82ee890092",
   "metadata": {},
   "outputs": [
    {
     "name": "stdout",
     "output_type": "stream",
     "text": [
      "[1] \"Prefiltering: 2835\"\n",
      "[1] \"Filtering no bacterial: 2602\"\n",
      "[1] \"Filtering Chloroplast & Mitochondria: 2469\"\n",
      "[1] \"Filtering Singleton: 2461\"\n"
     ]
    }
   ],
   "source": [
    "#removing 0 counts                               \n",
    "threshold <- rowSums(as.data.frame(otu_table(phy)))\n",
    "indexes <- threshold[threshold > 0]\n",
    "phy <- take_taxa(phy,names(indexes))\n",
    "\n",
    "#removing uncharacterized\n",
    "print(paste(\"Prefiltering:\",ntaxa(phy)))\n",
    "phy <- subset_taxa(phy,!is.na(Phylum) & !Phylum %in% c(\"\",\" p__uncharacterized\",\"Unknown\"))\n",
    "\n",
    "#removing non bacterial            \n",
    "print(paste(\"Filtering no bacterial:\",ntaxa(phy)))\n",
    "phy <- subset_taxa(phy,!is.na(Family) & !Family %in% c(\" f__Mitochondria\",\" f__Chloroplast\"))\n",
    "phy <- subset_taxa(phy,!Genus %in% c(\" Mitochondria\",\" g__Chloroplast\", \" g__Saccharimonadales\"))\n",
    "print(paste(\"Filtering Chloroplast & Mitochondria:\",ntaxa(phy)))\n",
    "\n",
    "#removing singleton \n",
    "threshold <- rowSums(as.data.frame(otu_table(phy))) \n",
    "indexes <- threshold[threshold > 1]\n",
    "phy <- take_taxa(phy,names(indexes))\n",
    "print(paste(\"Filtering Singleton:\",ntaxa(phy)))\n"
   ]
  },
  {
   "cell_type": "code",
   "execution_count": 3,
   "id": "591b9a8f-6a54-4bee-9ca8-d5f7869a2b11",
   "metadata": {},
   "outputs": [
    {
     "data": {
      "text/plain": [
       "phyloseq-class experiment-level object\n",
       "otu_table()   OTU Table:         [ 2870 taxa and 18 samples ]\n",
       "sample_data() Sample Data:       [ 18 samples by 4 sample variables ]\n",
       "tax_table()   Taxonomy Table:    [ 2870 taxa by 8 taxonomic ranks ]\n",
       "phy_tree()    Phylogenetic Tree: [ 2870 tips and 2795 internal nodes ]"
      ]
     },
     "metadata": {},
     "output_type": "display_data"
    },
    {
     "data": {
      "text/plain": [
       "phyloseq-class experiment-level object\n",
       "otu_table()   OTU Table:         [ 2870 taxa and 18 samples ]\n",
       "sample_data() Sample Data:       [ 18 samples by 4 sample variables ]\n",
       "tax_table()   Taxonomy Table:    [ 2870 taxa by 8 taxonomic ranks ]\n",
       "phy_tree()    Phylogenetic Tree: [ 2870 tips and 2795 internal nodes ]"
      ]
     },
     "metadata": {},
     "output_type": "display_data"
    },
    {
     "data": {
      "text/plain": [
       "phyloseq-class experiment-level object\n",
       "otu_table()   OTU Table:         [ 2870 taxa and 18 samples ]\n",
       "sample_data() Sample Data:       [ 18 samples by 4 sample variables ]\n",
       "tax_table()   Taxonomy Table:    [ 2870 taxa by 8 taxonomic ranks ]\n",
       "phy_tree()    Phylogenetic Tree: [ 2870 tips and 2795 internal nodes ]"
      ]
     },
     "metadata": {},
     "output_type": "display_data"
    }
   ],
   "source": [
    "##subtypes\n",
    "phy.necro <- subset_samples(phy,  status==\"sano\" | status==\"necrosi\")\n",
    "phy.necro <- subset_samples(phy.necro, sample %in% as.vector(subset(sample_data(phy.necro), status==\"necrosi\")$sample))\n",
    "phy.necro\n",
    "\n",
    "phy.peri <- subset_samples(phy,  status==\"sano\" | status==\"periapicale\")\n",
    "phy.peri <- subset_samples(phy.peri, sample %in% as.vector(subset(sample_data(phy.peri), status==\"periapicale\")$sample))\n",
    "phy.peri\n",
    "\n",
    "\n",
    "phy.periVsnecrosi <- subset_samples(phy,  status==\"periapicale\" | status==\"necrosi\")\n",
    "phy.periVsnecrosi"
   ]
  },
  {
   "cell_type": "code",
   "execution_count": 4,
   "id": "8ca56b46-5a50-4830-8773-b246d820c00f",
   "metadata": {},
   "outputs": [],
   "source": [
    "filter.phy <- function(phy_agg,threshold_taxa,threshold_sample){\n",
    "    cat(red(paste(\"N° taxa before filtering:\",ntaxa(phy_agg),\"\\n\")))\n",
    "\n",
    "    threshold <- rowSums(as.data.frame(otu_table(phy_agg))) / sum(sample_sums(phy_agg))*100\n",
    "    indexes <- threshold[threshold >= threshold_taxa]\n",
    "    phy.f <- take_taxa(phy_agg,names(indexes))\n",
    "    cat(red(paste(\"N° taxa after RARE filtering :\",ntaxa(phy.f),\"\\n\")))\n",
    "    # seleziona i taxa presenti in almeno  \n",
    "\n",
    "    min_samples <- round(threshold_sample*nsamples(phy.f))\n",
    "    cols <- rowSums(as.data.frame(otu_table(phy.f)) != 0)\n",
    "    taxas <- names(cols[ cols >= min_samples])\n",
    "    phy.f <- take_taxa(phy.f,taxas)\n",
    "    phy.f <- subset_taxa(phy.f, Phylum!= 'Unknown')\n",
    "    cat(red(paste(\"N° taxa after SAMPLE filtering :\",ntaxa(phy.f),\"\\n\")))\n",
    "    \n",
    "    return(phy.f)\n",
    "    }\n",
    "\n",
    "deseq2.test <- function(phy.f,form){\n",
    "    \n",
    "    Q <- phyloseq_to_deseq2(phy.f,form)\n",
    "    geoMeans = apply(counts(Q),1,gm_mean)\n",
    "    D <- estimateSizeFactors(Q, geoMeans = geoMeans)\n",
    "    dds <- DESeq(D)                                                             \n",
    "    normalized_count <- as.data.frame(round(counts(D,normalized=TRUE)))\n",
    "    otu_table(phy.f) <- otu_table(normalized_count, taxa_are_rows=TRUE)\n",
    "    colnames(normalized_count) <- gsub(\"\\\\.\",\"-\",colnames(normalized_count))\n",
    "    otu_table(phy.f) <- otu_table(normalized_count, taxa_are_rows=TRUE)\n",
    "    res <- as.data.frame(results(dds))\n",
    "    res <- res[order(res$padj),]\n",
    "    return(res)\n",
    "    }"
   ]
  },
  {
   "cell_type": "code",
   "execution_count": 5,
   "id": "1756b212-84be-4299-9863-d54ea0179a33",
   "metadata": {},
   "outputs": [
    {
     "name": "stderr",
     "output_type": "stream",
     "text": [
      "Caricamento del pacchetto richiesto: ggplot2\n",
      "\n",
      "\n",
      "Caricamento pacchetto: 'ggpubr'\n",
      "\n",
      "\n",
      "Il seguente oggetto è mascherato da 'package:ape':\n",
      "\n",
      "    rotate\n",
      "\n",
      "\n",
      "\n",
      "Caricamento pacchetto: 'crayon'\n",
      "\n",
      "\n",
      "Il seguente oggetto è mascherato da 'package:ggplot2':\n",
      "\n",
      "    %+%\n",
      "\n",
      "\n",
      "hash-2.2.6.1 provided by Decision Patterns\n",
      "\n",
      "\n",
      "Caricamento del pacchetto richiesto: S4Vectors\n",
      "\n",
      "Caricamento del pacchetto richiesto: stats4\n",
      "\n",
      "\n",
      "Caricamento pacchetto: 'S4Vectors'\n",
      "\n",
      "\n",
      "I seguenti oggetti sono mascherati da 'package:hash':\n",
      "\n",
      "    values, values<-\n",
      "\n",
      "\n",
      "Il seguente oggetto è mascherato da 'package:tidyr':\n",
      "\n",
      "    expand\n",
      "\n",
      "\n",
      "I seguenti oggetti sono mascherati da 'package:Matrix':\n",
      "\n",
      "    expand, unname\n",
      "\n",
      "\n",
      "I seguenti oggetti sono mascherati da 'package:base':\n",
      "\n",
      "    expand.grid, I, unname\n",
      "\n",
      "\n",
      "Caricamento del pacchetto richiesto: IRanges\n",
      "\n",
      "\n",
      "Caricamento pacchetto: 'IRanges'\n",
      "\n",
      "\n",
      "Il seguente oggetto è mascherato da 'package:phyloseq':\n",
      "\n",
      "    distance\n",
      "\n",
      "\n",
      "Il seguente oggetto è mascherato da 'package:grDevices':\n",
      "\n",
      "    windows\n",
      "\n",
      "\n",
      "Caricamento del pacchetto richiesto: GenomicRanges\n",
      "\n",
      "Caricamento del pacchetto richiesto: GenomeInfoDb\n",
      "\n",
      "Caricamento del pacchetto richiesto: SummarizedExperiment\n",
      "\n",
      "Caricamento del pacchetto richiesto: MatrixGenerics\n",
      "\n",
      "Caricamento del pacchetto richiesto: matrixStats\n",
      "\n",
      "\n",
      "Caricamento pacchetto: 'matrixStats'\n",
      "\n",
      "\n",
      "I seguenti oggetti sono mascherati da 'package:Biobase':\n",
      "\n",
      "    anyMissing, rowMedians\n",
      "\n",
      "\n",
      "\n",
      "Caricamento pacchetto: 'MatrixGenerics'\n",
      "\n",
      "\n",
      "I seguenti oggetti sono mascherati da 'package:matrixStats':\n",
      "\n",
      "    colAlls, colAnyNAs, colAnys, colAvgsPerRowSet, colCollapse,\n",
      "    colCounts, colCummaxs, colCummins, colCumprods, colCumsums,\n",
      "    colDiffs, colIQRDiffs, colIQRs, colLogSumExps, colMadDiffs,\n",
      "    colMads, colMaxs, colMeans2, colMedians, colMins, colOrderStats,\n",
      "    colProds, colQuantiles, colRanges, colRanks, colSdDiffs, colSds,\n",
      "    colSums2, colTabulates, colVarDiffs, colVars, colWeightedMads,\n",
      "    colWeightedMeans, colWeightedMedians, colWeightedSds,\n",
      "    colWeightedVars, rowAlls, rowAnyNAs, rowAnys, rowAvgsPerColSet,\n",
      "    rowCollapse, rowCounts, rowCummaxs, rowCummins, rowCumprods,\n",
      "    rowCumsums, rowDiffs, rowIQRDiffs, rowIQRs, rowLogSumExps,\n",
      "    rowMadDiffs, rowMads, rowMaxs, rowMeans2, rowMedians, rowMins,\n",
      "    rowOrderStats, rowProds, rowQuantiles, rowRanges, rowRanks,\n",
      "    rowSdDiffs, rowSds, rowSums2, rowTabulates, rowVarDiffs, rowVars,\n",
      "    rowWeightedMads, rowWeightedMeans, rowWeightedMedians,\n",
      "    rowWeightedSds, rowWeightedVars\n",
      "\n",
      "\n",
      "Il seguente oggetto è mascherato da 'package:Biobase':\n",
      "\n",
      "    rowMedians\n",
      "\n",
      "\n"
     ]
    },
    {
     "name": "stdout",
     "output_type": "stream",
     "text": [
      "[1] \"Type: necro\"\n",
      "[1] \"Level Phylum\"\n",
      "[1] \"Filtering\"\n",
      "\u001b[31mN° taxa before filtering: 15 \n",
      "\u001b[39m\u001b[31mN° taxa after RARE filtering : 13 \n",
      "\u001b[39m\u001b[31mN° taxa after SAMPLE filtering : 9 \n",
      "\u001b[39m"
     ]
    },
    {
     "name": "stderr",
     "output_type": "stream",
     "text": [
      "Default value being used.\n",
      "\n"
     ]
    },
    {
     "name": "stdout",
     "output_type": "stream",
     "text": [
      "\u001b[31mNormalization factor...\n",
      "\u001b[39m\u001b[31mCreating model...\n",
      "\u001b[39m"
     ]
    },
    {
     "name": "stderr",
     "output_type": "stream",
     "text": [
      "converting counts to integer mode\n",
      "\n",
      "using pre-existing size factors\n",
      "\n",
      "estimating dispersions\n",
      "\n",
      "gene-wise dispersion estimates\n",
      "\n",
      "mean-dispersion relationship\n",
      "\n",
      "final dispersion estimates\n",
      "\n",
      "fitting model and testing\n",
      "\n"
     ]
    },
    {
     "name": "stdout",
     "output_type": "stream",
     "text": [
      "[1] \"Found deseq: 2\"\n",
      "[1] \"Level Family\"\n",
      "[1] \"Filtering\"\n",
      "\u001b[31mN° taxa before filtering: 83 \n",
      "\u001b[39m\u001b[31mN° taxa after RARE filtering : 69 \n",
      "\u001b[39m\u001b[31mN° taxa after SAMPLE filtering : 46 \n",
      "\u001b[39m"
     ]
    },
    {
     "name": "stderr",
     "output_type": "stream",
     "text": [
      "Default value being used.\n",
      "\n"
     ]
    },
    {
     "name": "stdout",
     "output_type": "stream",
     "text": [
      "\u001b[31mNormalization factor...\n",
      "\u001b[39m\u001b[31mCreating model...\n",
      "\u001b[39m"
     ]
    },
    {
     "name": "stderr",
     "output_type": "stream",
     "text": [
      "converting counts to integer mode\n",
      "\n",
      "using pre-existing size factors\n",
      "\n",
      "estimating dispersions\n",
      "\n",
      "gene-wise dispersion estimates\n",
      "\n",
      "mean-dispersion relationship\n",
      "\n",
      "final dispersion estimates\n",
      "\n",
      "fitting model and testing\n",
      "\n"
     ]
    },
    {
     "name": "stdout",
     "output_type": "stream",
     "text": [
      "[1] \"Found deseq: 24\"\n",
      "[1] \"Level Genus\"\n",
      "[1] \"Filtering\"\n",
      "\u001b[31mN° taxa before filtering: 168 \n",
      "\u001b[39m\u001b[31mN° taxa after RARE filtering : 124 \n",
      "\u001b[39m\u001b[31mN° taxa after SAMPLE filtering : 73 \n",
      "\u001b[39m"
     ]
    },
    {
     "name": "stderr",
     "output_type": "stream",
     "text": [
      "Default value being used.\n",
      "\n"
     ]
    },
    {
     "name": "stdout",
     "output_type": "stream",
     "text": [
      "\u001b[31mNormalization factor...\n",
      "\u001b[39m\u001b[31mCreating model...\n",
      "\u001b[39m"
     ]
    },
    {
     "name": "stderr",
     "output_type": "stream",
     "text": [
      "converting counts to integer mode\n",
      "\n",
      "using pre-existing size factors\n",
      "\n",
      "estimating dispersions\n",
      "\n",
      "gene-wise dispersion estimates\n",
      "\n",
      "mean-dispersion relationship\n",
      "\n",
      "final dispersion estimates\n",
      "\n",
      "fitting model and testing\n",
      "\n"
     ]
    },
    {
     "name": "stdout",
     "output_type": "stream",
     "text": [
      "[1] \"Found deseq: 24\"\n",
      "[1] \"Level Species\"\n",
      "[1] \"Filtering\"\n",
      "\u001b[31mN° taxa before filtering: 442 \n",
      "\u001b[39m\u001b[31mN° taxa after RARE filtering : 272 \n",
      "\u001b[39m\u001b[31mN° taxa after SAMPLE filtering : 117 \n",
      "\u001b[39m"
     ]
    },
    {
     "name": "stderr",
     "output_type": "stream",
     "text": [
      "Default value being used.\n",
      "\n"
     ]
    },
    {
     "name": "stdout",
     "output_type": "stream",
     "text": [
      "\u001b[31mNormalization factor...\n",
      "\u001b[39m\u001b[31mCreating model...\n",
      "\u001b[39m"
     ]
    },
    {
     "name": "stderr",
     "output_type": "stream",
     "text": [
      "converting counts to integer mode\n",
      "\n",
      "using pre-existing size factors\n",
      "\n",
      "estimating dispersions\n",
      "\n",
      "gene-wise dispersion estimates\n",
      "\n",
      "mean-dispersion relationship\n",
      "\n",
      "-- note: fitType='parametric', but the dispersion trend was not well captured by the\n",
      "   function: y = a/x + b, and a local regression fit was automatically substituted.\n",
      "   specify fitType='local' or 'mean' to avoid this message next time.\n",
      "\n",
      "final dispersion estimates\n",
      "\n",
      "fitting model and testing\n",
      "\n"
     ]
    },
    {
     "name": "stdout",
     "output_type": "stream",
     "text": [
      "[1] \"Found deseq: 30\"\n",
      "[1] \"Type: peri\"\n",
      "[1] \"Level Phylum\"\n",
      "[1] \"Filtering\"\n",
      "\u001b[31mN° taxa before filtering: 15 \n",
      "\u001b[39m\u001b[31mN° taxa after RARE filtering : 14 \n",
      "\u001b[39m\u001b[31mN° taxa after SAMPLE filtering : 11 \n",
      "\u001b[39m"
     ]
    },
    {
     "name": "stderr",
     "output_type": "stream",
     "text": [
      "Default value being used.\n",
      "\n"
     ]
    },
    {
     "name": "stdout",
     "output_type": "stream",
     "text": [
      "\u001b[31mNormalization factor...\n",
      "\u001b[39m\u001b[31mCreating model...\n",
      "\u001b[39m"
     ]
    },
    {
     "name": "stderr",
     "output_type": "stream",
     "text": [
      "converting counts to integer mode\n",
      "\n",
      "using pre-existing size factors\n",
      "\n",
      "estimating dispersions\n",
      "\n",
      "gene-wise dispersion estimates\n",
      "\n",
      "mean-dispersion relationship\n",
      "\n",
      "final dispersion estimates\n",
      "\n",
      "fitting model and testing\n",
      "\n"
     ]
    },
    {
     "name": "stdout",
     "output_type": "stream",
     "text": [
      "[1] \"Found deseq: 7\"\n",
      "[1] \"Level Family\"\n",
      "[1] \"Filtering\"\n",
      "\u001b[31mN° taxa before filtering: 83 \n",
      "\u001b[39m\u001b[31mN° taxa after RARE filtering : 64 \n",
      "\u001b[39m\u001b[31mN° taxa after SAMPLE filtering : 51 \n",
      "\u001b[39m"
     ]
    },
    {
     "name": "stderr",
     "output_type": "stream",
     "text": [
      "Default value being used.\n",
      "\n"
     ]
    },
    {
     "name": "stdout",
     "output_type": "stream",
     "text": [
      "\u001b[31mNormalization factor...\n",
      "\u001b[39m\u001b[31mCreating model...\n",
      "\u001b[39m"
     ]
    },
    {
     "name": "stderr",
     "output_type": "stream",
     "text": [
      "converting counts to integer mode\n",
      "\n",
      "using pre-existing size factors\n",
      "\n",
      "estimating dispersions\n",
      "\n",
      "gene-wise dispersion estimates\n",
      "\n",
      "mean-dispersion relationship\n",
      "\n",
      "final dispersion estimates\n",
      "\n",
      "fitting model and testing\n",
      "\n"
     ]
    },
    {
     "name": "stdout",
     "output_type": "stream",
     "text": [
      "[1] \"Found deseq: 25\"\n",
      "[1] \"Level Genus\"\n",
      "[1] \"Filtering\"\n",
      "\u001b[31mN° taxa before filtering: 168 \n",
      "\u001b[39m\u001b[31mN° taxa after RARE filtering : 112 \n",
      "\u001b[39m\u001b[31mN° taxa after SAMPLE filtering : 83 \n",
      "\u001b[39m"
     ]
    },
    {
     "name": "stderr",
     "output_type": "stream",
     "text": [
      "Default value being used.\n",
      "\n"
     ]
    },
    {
     "name": "stdout",
     "output_type": "stream",
     "text": [
      "\u001b[31mNormalization factor...\n",
      "\u001b[39m\u001b[31mCreating model...\n",
      "\u001b[39m"
     ]
    },
    {
     "name": "stderr",
     "output_type": "stream",
     "text": [
      "converting counts to integer mode\n",
      "\n",
      "using pre-existing size factors\n",
      "\n",
      "estimating dispersions\n",
      "\n",
      "gene-wise dispersion estimates\n",
      "\n",
      "mean-dispersion relationship\n",
      "\n",
      "final dispersion estimates\n",
      "\n",
      "fitting model and testing\n",
      "\n"
     ]
    },
    {
     "name": "stdout",
     "output_type": "stream",
     "text": [
      "[1] \"Found deseq: 44\"\n",
      "[1] \"Level Species\"\n",
      "[1] \"Filtering\"\n",
      "\u001b[31mN° taxa before filtering: 442 \n",
      "\u001b[39m\u001b[31mN° taxa after RARE filtering : 293 \n",
      "\u001b[39m\u001b[31mN° taxa after SAMPLE filtering : 163 \n",
      "\u001b[39m"
     ]
    },
    {
     "name": "stderr",
     "output_type": "stream",
     "text": [
      "Default value being used.\n",
      "\n"
     ]
    },
    {
     "name": "stdout",
     "output_type": "stream",
     "text": [
      "\u001b[31mNormalization factor...\n",
      "\u001b[39m\u001b[31mCreating model...\n",
      "\u001b[39m"
     ]
    },
    {
     "name": "stderr",
     "output_type": "stream",
     "text": [
      "converting counts to integer mode\n",
      "\n",
      "using pre-existing size factors\n",
      "\n",
      "estimating dispersions\n",
      "\n",
      "gene-wise dispersion estimates\n",
      "\n",
      "mean-dispersion relationship\n",
      "\n",
      "-- note: fitType='parametric', but the dispersion trend was not well captured by the\n",
      "   function: y = a/x + b, and a local regression fit was automatically substituted.\n",
      "   specify fitType='local' or 'mean' to avoid this message next time.\n",
      "\n",
      "final dispersion estimates\n",
      "\n",
      "fitting model and testing\n",
      "\n"
     ]
    },
    {
     "name": "stdout",
     "output_type": "stream",
     "text": [
      "[1] \"Found deseq: 69\"\n",
      "[1] \"Type: periVsnecrosi\"\n",
      "[1] \"Level Phylum\"\n",
      "[1] \"Filtering\"\n",
      "\u001b[31mN° taxa before filtering: 15 \n",
      "\u001b[39m\u001b[31mN° taxa after RARE filtering : 12 \n",
      "\u001b[39m\u001b[31mN° taxa after SAMPLE filtering : 9 \n",
      "\u001b[39m"
     ]
    },
    {
     "name": "stderr",
     "output_type": "stream",
     "text": [
      "Default value being used.\n",
      "\n"
     ]
    },
    {
     "name": "stdout",
     "output_type": "stream",
     "text": [
      "\u001b[31mNormalization factor...\n",
      "\u001b[39m\u001b[31mCreating model...\n",
      "\u001b[39m"
     ]
    },
    {
     "name": "stderr",
     "output_type": "stream",
     "text": [
      "converting counts to integer mode\n",
      "\n",
      "using pre-existing size factors\n",
      "\n",
      "estimating dispersions\n",
      "\n",
      "gene-wise dispersion estimates\n",
      "\n",
      "mean-dispersion relationship\n",
      "\n",
      "final dispersion estimates\n",
      "\n",
      "fitting model and testing\n",
      "\n",
      "-- replacing outliers and refitting for 2 genes\n",
      "-- DESeq argument 'minReplicatesForReplace' = 7 \n",
      "-- original counts are preserved in counts(dds)\n",
      "\n",
      "estimating dispersions\n",
      "\n",
      "fitting model and testing\n",
      "\n"
     ]
    },
    {
     "name": "stdout",
     "output_type": "stream",
     "text": [
      "[1] \"Found deseq: 1\"\n",
      "[1] \"Level Family\"\n",
      "[1] \"Filtering\"\n",
      "\u001b[31mN° taxa before filtering: 83 \n",
      "\u001b[39m\u001b[31mN° taxa after RARE filtering : 69 \n",
      "\u001b[39m\u001b[31mN° taxa after SAMPLE filtering : 49 \n",
      "\u001b[39m"
     ]
    },
    {
     "name": "stderr",
     "output_type": "stream",
     "text": [
      "Default value being used.\n",
      "\n"
     ]
    },
    {
     "name": "stdout",
     "output_type": "stream",
     "text": [
      "\u001b[31mNormalization factor...\n",
      "\u001b[39m\u001b[31mCreating model...\n",
      "\u001b[39m"
     ]
    },
    {
     "name": "stderr",
     "output_type": "stream",
     "text": [
      "converting counts to integer mode\n",
      "\n",
      "using pre-existing size factors\n",
      "\n",
      "estimating dispersions\n",
      "\n",
      "gene-wise dispersion estimates\n",
      "\n",
      "mean-dispersion relationship\n",
      "\n",
      "-- note: fitType='parametric', but the dispersion trend was not well captured by the\n",
      "   function: y = a/x + b, and a local regression fit was automatically substituted.\n",
      "   specify fitType='local' or 'mean' to avoid this message next time.\n",
      "\n",
      "final dispersion estimates\n",
      "\n",
      "fitting model and testing\n",
      "\n",
      "-- replacing outliers and refitting for 24 genes\n",
      "-- DESeq argument 'minReplicatesForReplace' = 7 \n",
      "-- original counts are preserved in counts(dds)\n",
      "\n",
      "estimating dispersions\n",
      "\n",
      "fitting model and testing\n",
      "\n"
     ]
    },
    {
     "name": "stdout",
     "output_type": "stream",
     "text": [
      "[1] \"Found deseq: 3\"\n",
      "[1] \"Level Genus\"\n",
      "[1] \"Filtering\"\n",
      "\u001b[31mN° taxa before filtering: 168 \n",
      "\u001b[39m\u001b[31mN° taxa after RARE filtering : 126 \n",
      "\u001b[39m\u001b[31mN° taxa after SAMPLE filtering : 78 \n",
      "\u001b[39m"
     ]
    },
    {
     "name": "stderr",
     "output_type": "stream",
     "text": [
      "Default value being used.\n",
      "\n"
     ]
    },
    {
     "name": "stdout",
     "output_type": "stream",
     "text": [
      "\u001b[31mNormalization factor...\n",
      "\u001b[39m\u001b[31mCreating model...\n",
      "\u001b[39m"
     ]
    },
    {
     "name": "stderr",
     "output_type": "stream",
     "text": [
      "converting counts to integer mode\n",
      "\n",
      "using pre-existing size factors\n",
      "\n",
      "estimating dispersions\n",
      "\n",
      "gene-wise dispersion estimates\n",
      "\n",
      "mean-dispersion relationship\n",
      "\n",
      "-- note: fitType='parametric', but the dispersion trend was not well captured by the\n",
      "   function: y = a/x + b, and a local regression fit was automatically substituted.\n",
      "   specify fitType='local' or 'mean' to avoid this message next time.\n",
      "\n",
      "final dispersion estimates\n",
      "\n",
      "fitting model and testing\n",
      "\n",
      "-- replacing outliers and refitting for 42 genes\n",
      "-- DESeq argument 'minReplicatesForReplace' = 7 \n",
      "-- original counts are preserved in counts(dds)\n",
      "\n",
      "estimating dispersions\n",
      "\n",
      "fitting model and testing\n",
      "\n"
     ]
    },
    {
     "name": "stdout",
     "output_type": "stream",
     "text": [
      "[1] \"Found deseq: 0\"\n",
      "[1] \"Level Species\"\n",
      "[1] \"Filtering\"\n",
      "\u001b[31mN° taxa before filtering: 442 \n",
      "\u001b[39m\u001b[31mN° taxa after RARE filtering : 233 \n",
      "\u001b[39m\u001b[31mN° taxa after SAMPLE filtering : 90 \n",
      "\u001b[39m"
     ]
    },
    {
     "name": "stderr",
     "output_type": "stream",
     "text": [
      "Default value being used.\n",
      "\n"
     ]
    },
    {
     "name": "stdout",
     "output_type": "stream",
     "text": [
      "\u001b[31mNormalization factor...\n",
      "\u001b[39m\u001b[31mCreating model...\n",
      "\u001b[39m"
     ]
    },
    {
     "name": "stderr",
     "output_type": "stream",
     "text": [
      "converting counts to integer mode\n",
      "\n",
      "using pre-existing size factors\n",
      "\n",
      "estimating dispersions\n",
      "\n",
      "gene-wise dispersion estimates\n",
      "\n",
      "mean-dispersion relationship\n",
      "\n",
      "-- note: fitType='parametric', but the dispersion trend was not well captured by the\n",
      "   function: y = a/x + b, and a local regression fit was automatically substituted.\n",
      "   specify fitType='local' or 'mean' to avoid this message next time.\n",
      "\n",
      "final dispersion estimates\n",
      "\n",
      "fitting model and testing\n",
      "\n",
      "-- replacing outliers and refitting for 51 genes\n",
      "-- DESeq argument 'minReplicatesForReplace' = 7 \n",
      "-- original counts are preserved in counts(dds)\n",
      "\n",
      "estimating dispersions\n",
      "\n",
      "fitting model and testing\n",
      "\n"
     ]
    },
    {
     "name": "stdout",
     "output_type": "stream",
     "text": [
      "[1] \"Found deseq: 0\"\n"
     ]
    }
   ],
   "source": [
    "library(ggpubr)\n",
    "library(crayon)\n",
    "library(hash)\n",
    "library(DESeq2)\n",
    "\n",
    "\n",
    "#results <- hash() \n",
    "results.des <- hash()\n",
    "for(ty in c(\"necro\",\"peri\",\"periVsnecrosi\")){\n",
    "    print(paste(\"Type:\",ty))\n",
    "    #results[[ty]] <- hash()\n",
    "    results.des[[ty]] <- hash()\n",
    "    if(ty==\"necro\"){\n",
    "        phy.fun<-phy.necro\n",
    "        }else if(ty==\"periVsnecrosi\"){\n",
    "        phy.fun<-phy.periVsnecrosi\n",
    "        }else{\n",
    "        phy.fun<-phy.peri\n",
    "        }\n",
    "    for(level in c(\"Phylum\",\"Family\",\"Genus\",\"Species\")){\n",
    "        print(paste(\"Level\",level))\n",
    "        phy_agg <- microbiome::aggregate_taxa(phy.fun, level)\n",
    "        if(level==\"Genus\"){\n",
    "            phy_agg <- subset_taxa(phy_agg, Genus!= 'Unknown')\n",
    "            }\n",
    "    #RARE taxa filtering\n",
    "    print(\"Filtering\")\n",
    "    #Get count of phyla\n",
    "    threshold_taxa <- 0.005\n",
    "    threshold_sample <- 0.3\n",
    "\n",
    "    phy.f <- filter.phy(phy_agg,threshold_taxa,threshold_sample)\n",
    "    \n",
    "    ####METAGENOMSEQ\n",
    "    metaSeqObject <- newMRexperiment(counts = as.data.frame(as(otu_table(phy.f),'matrix')),phenoData = AnnotatedDataFrame(sample_data(phy.f)), featureData = AnnotatedDataFrame(as.data.frame(tax_table(phy.f)))) \n",
    "    metaSeqObject  <- cumNorm( metaSeqObject , p=cumNormStatFast(metaSeqObject))\n",
    "        \n",
    "    # Define the metadata categories:\n",
    "    status <- as.factor(pData(metaSeqObject)$status)\n",
    "    type <- as.factor(pData(metaSeqObject)$type)\n",
    "    sample <- as.factor(pData(metaSeqObject)$sample)\n",
    "    \n",
    "    cat(red(paste(\"Normalization factor...\\n\")))\n",
    "    # Define the normalisation factor\n",
    "    norm.factor <- normFactors(metaSeqObject)\n",
    "    norm.factor <- log2(norm.factor/median(norm.factor) + 1)\n",
    "    cat(red(paste(\"Creating model...\\n\")))\n",
    "    # Create the model\n",
    "    settings <- zigControl(maxit = 10, verbose = TRUE)\n",
    "    if(ty==\"periVsnecrosi\"){\n",
    "        mod <- model.matrix(~status+norm.factor)\n",
    "        form <- as.formula(\"~status\")\n",
    "        res <- deseq2.test(phy.f,form)\n",
    "        }else{\n",
    "            mod <- model.matrix(~status+sample+norm.factor)\n",
    "            form <- as.formula(\"~sample+status\")\n",
    "            res <- deseq2.test(phy.f,form)\n",
    "        }\n",
    "    #fit <- fitZig(obj = metaSeqObject, mod = mod, useCSSoffset = FALSE, control = settings)\n",
    "    #coefs <- MRcoefs(fit, coef = 2, group = 3, number = 40)\n",
    "    #sigtab = subset(coefs,coefs$adjPvalues < 0.05)\n",
    "    sigtab.des = subset(res,res$padj < 0.05)\n",
    "    ##Deseq2\n",
    "    #print(paste(\"Found metagen:\",length(rownames(sigtab))))\n",
    "    print(paste(\"Found deseq:\",length(rownames(sigtab.des))))\n",
    "    #results[[ty]][[level]] <- rownames(sigtab) \n",
    "    results.des[[ty]][[level]] <- row.names(sigtab.des)\n",
    "    }\n",
    "}"
   ]
  },
  {
   "cell_type": "code",
   "execution_count": 6,
   "id": "18e7eab2-5681-4170-a5c0-dc9811bb1bca",
   "metadata": {},
   "outputs": [
    {
     "name": "stderr",
     "output_type": "stream",
     "text": [
      "Default value being used.\n",
      "\n"
     ]
    }
   ],
   "source": [
    "library(ggpubr)\n",
    "\n",
    "phy.res <- CSS_norm(phy)\n",
    "for(level in c(\"Phylum\",\"Family\",\"Genus\",\"Species\")){\n",
    "\n",
    "    phy_agg <- microbiome::aggregate_taxa(phy.res, level)\n",
    "    if(level==\"Genus\"){\n",
    "        phy_agg <- subset_taxa(phy_agg, Genus!= 'Unknown')\n",
    "        formula <- as.formula(\"Family~Genus\")\n",
    "    }else if(level==\"Species\"){\n",
    "        phy_agg <- subset_taxa(phy_agg, Species!= 'Unknown')\n",
    "        formula <- as.formula(\"Genus~Species\")\n",
    "        }else if(level==\"Family\"){\n",
    "        formula <- as.formula(\"Phylum~Family\")\n",
    "        }else{\n",
    "        formula <- as.formula(\"~Phylum\")\n",
    "        }\n",
    "    filter <- outersect(results[[\"necro\"]][[level]],results[['peri']][[level]])\n",
    "    ph <- microbiome::transform(phy_agg, \"log10\")\n",
    "    ph <- prune_taxa(filter,ph)\n",
    "    ph <- subset_taxa(ph, level != \"Unknown\" )\n",
    "    data <- psmelt(ph)\n",
    "\n",
    "    #comparisons <- c(\"necrosi\", \"periapicale\")\n",
    "    p <- ggboxplot(data, x = \"status\", y = \"Abundance\",  id = \"sample\", add = \"jitter\", repel =\"TRUE\" ,\n",
    "     color = \"status\", line.color = \"gray\", line.size = 0.4,\n",
    "     palette = \"Set2\",ylab='Abundance (log10)')+\n",
    "    facet_wrap(formula) +\n",
    "    rotate_x_text(45)+\n",
    "      #stat_compare_means(comparisons = comparisons, label = \"p.signif\", hide.ns = TRUE, paired = TRUE, vjust = 1.5)+\n",
    "    theme(plot.margin = unit(c(3,3,3,3), \"lines\"),axis.text=element_text(size=8),strip.text.x = element_text(size = 8),axis.title.x=element_blank(),\n",
    "        axis.text.x=element_blank(),\n",
    "        axis.ticks.x=element_blank())\n",
    "\n",
    "    tiff(paste(\"risultati_sklearn/gruppi/DA_\",level,\"_status_NOintersecting.tiff\"), height=20, width=30, units=\"cm\", res=300)\n",
    "print(p)\n",
    "dev.off()\n",
    "\n",
    "    }"
   ]
  },
  {
   "cell_type": "code",
   "execution_count": null,
   "id": "c705623a-5f69-4a5c-bfd4-df8971a62161",
   "metadata": {},
   "outputs": [],
   "source": []
  },
  {
   "cell_type": "code",
   "execution_count": 357,
   "id": "065b0809-f84d-4900-b8e5-e4718f41363e",
   "metadata": {},
   "outputs": [
    {
     "data": {
      "text/html": [
       "'s__oralis'"
      ],
      "text/latex": [
       "'s\\_\\_oralis'"
      ],
      "text/markdown": [
       "'s__oralis'"
      ],
      "text/plain": [
       "[1] \"s__oralis\""
      ]
     },
     "metadata": {},
     "output_type": "display_data"
    }
   ],
   "source": [
    "library(stringr)\n",
    "\n",
    "if(startsWith(t,\"k\")){\n",
    "    sp <- str_split(t,pattern = \"__\")[[1]][8]\n",
    "    paste(\"s__\",sp,sep=\"\")\n",
    "    }"
   ]
  },
  {
   "cell_type": "code",
   "execution_count": 104,
   "id": "bd072577-61a0-4051-b5a1-0fddd4be1781",
   "metadata": {},
   "outputs": [
    {
     "data": {
      "text/html": [
       "FALSE"
      ],
      "text/latex": [
       "FALSE"
      ],
      "text/markdown": [
       "FALSE"
      ],
      "text/plain": [
       "[1] FALSE"
      ]
     },
     "metadata": {},
     "output_type": "display_data"
    }
   ],
   "source": [
    "302.8 < 33.11111"
   ]
  },
  {
   "cell_type": "code",
   "execution_count": 109,
   "id": "cf6339b0-2c23-4a40-941f-9e69560b6d93",
   "metadata": {},
   "outputs": [],
   "source": [
    "library(dplyr)\n",
    "library(stringr)\n",
    "re <- results.des\n",
    "\n",
    "var1 <- 'Sano Vs Periapicale'\n",
    "var2 <- 'Sano Vs Necrosi'\n",
    "var3 <- 'Periapicale Vs Necrosi'\n",
    "for(level in c(\"Phylum\",\"Family\",\"Genus\",\"Species\")){\n",
    "    phy_agg <- microbiome::aggregate_taxa(phy, level)\n",
    "    summary <- psmelt(phy_agg) %>% group_by(status,psmelt(phy_agg)[,level]) %>% summarise(Mean = mean(Abundance),\n",
    "                              .groups = 'drop')\n",
    "    colnames(summary) <- c(\"status\",level,\"Mean\")\n",
    "    df <- data.frame()\n",
    "    vect1 <- re[['peri']][[level]]\n",
    "    vect2 <- re[['necro']][[level]]\n",
    "    vect3 <- re[['periVsnecrosi']][[level]]\n",
    "    taxa <- unique(c(vect1,vect2, vect3))\n",
    "    for(el in taxa){\n",
    "        s <- subset(summary,(summary[,level] ==el & status==\"sano\"))$Mean\n",
    "        n <- subset(summary,(summary[,level] ==el & status==\"necrosi\"))$Mean\n",
    "        p <- subset(summary,(summary[,level] ==el & status==\"periapicale\"))$Mean\n",
    "        if(startsWith(el,\"k\")){\n",
    "            sp <- str_split(el,pattern = \"__\")[[1]][8]\n",
    "            el <- paste(\"s__\",sp,sep=\"\")\n",
    "        }\n",
    "        if(el %in% vect1){\n",
    "            if(s>p){\n",
    "                df[el,var1] <- 'down'\n",
    "            }else{\n",
    "                df[el,var1] <- 'up'\n",
    "            }\n",
    "        }else{\n",
    "            df[el,var1] <- '-'\n",
    "                    }\n",
    "        if(el %in% vect2){\n",
    "            if(s>n){\n",
    "                df[el,var2] <- 'down'\n",
    "            }else{\n",
    "                df[el,var2] <- 'up'\n",
    "            }\n",
    "        }else{\n",
    "            df[el,var2] <- '-'\n",
    "        }\n",
    "        if(el %in% vect3){\n",
    "            if(p>n){\n",
    "                df[el,var3] <- 'down'\n",
    "            }else{\n",
    "                df[el,var3] <-  'up'\n",
    "            }\n",
    "        }else{\n",
    "            df[el,var3] <- '-'\n",
    "        }\n",
    "    }\n",
    "    write.table(df,paste(\"risultati_sklearn/gruppi/deseq/\",level,\"confronti.txt\"),sep=\"\\t\", quote=FALSE, row.names = TRUE)\n",
    "    \n",
    "}\n",
    "\n"
   ]
  },
  {
   "cell_type": "code",
   "execution_count": null,
   "id": "45d9b265-3aaf-48bc-b9bb-f2a445f83768",
   "metadata": {},
   "outputs": [],
   "source": [
    "results"
   ]
  },
  {
   "cell_type": "code",
   "execution_count": null,
   "id": "ac073bd4-77f0-4df8-a4e7-f65aae870089",
   "metadata": {},
   "outputs": [],
   "source": [
    "library(ggpubr)\n",
    "\n",
    "level <- \"Genus\"\n",
    "\n",
    "phy_agg <- microbiome::aggregate_taxa(phy, level)\n",
    "phy_agg <- subset_taxa(phy_agg, level!= 'Unknown')\n",
    "\n",
    "filter <- \n",
    "ph <- microbiome::transform(phy_agg, \"log10\")\n",
    "ph <- prune_taxa(filter,ph)\n",
    "ph <- subset_taxa(ph, level != \"Unknown\" )\n",
    "data <- psmelt(ph)\n",
    "\n",
    "#comparisons <- c(\"necrosi\", \"periapicale\")\n",
    "p <- ggbarplot(data, x = \"sample\", y = \"Abundance\",  id = \"sample\",#, add = \"jitter\", repel ,\n",
    " color = \"status\", line.color = \"gray\", line.size = 0.4,\n",
    " palette = \"Set2\",ylab='Abundance (log10)')+\n",
    "facet_grid(type~Phylum+Family+Genus) +\n",
    "rotate_x_text(45)+\n",
    "  #stat_compare_means(comparisons = comparisons, label = \"p.signif\", hide.ns = TRUE, paired = TRUE, vjust = 1.5)+\n",
    "theme(plot.margin = unit(c(3,3,3,3), \"lines\"),axis.text=element_text(size=8),strip.text.x = element_text(size = 8))\n",
    "\n",
    "tiff(paste(\"risultati_sklearn/DA_\",level,\"_status_selected.tiff\"), height=20, width=30, units=\"cm\", res=300)\n",
    "print(p)\n",
    "dev.off()"
   ]
  },
  {
   "cell_type": "code",
   "execution_count": 38,
   "id": "6f40c859-744c-4018-b02c-9e297f3f6e65",
   "metadata": {},
   "outputs": [],
   "source": [
    "library(ggpubr)\n",
    "\n",
    "for(level in c(\"Phylum\",\"Family\",\"Genus\",\"Species\")){\n",
    "    for(type in c(names(results.des))){\n",
    "    #filter <- unique(c(results.des[['necro']][[level]],results.des[['peri']][[level]],results.des[['periVsnecrosi']][[level]]))\n",
    "    filter <- results.des[[type]][[level]]\n",
    "    if(length(filter)!=0){\n",
    "        phy_agg <- microbiome::aggregate_taxa(phy, level)\n",
    "    phy_agg <- subset_taxa(phy_agg, level!= 'Unknown')\n",
    "\n",
    "    ph <- microbiome::transform(phy_agg, \"log10\")\n",
    "    ph <- prune_taxa(filter,ph)\n",
    "    ph <- subset_taxa(ph, level != \"Unknown\" )\n",
    "    data <- psmelt(ph)\n",
    "\n",
    "if(type==\"necro\"){\n",
    "    comparisons <- c(\"sano\", \"necrosi\")\n",
    "    }else if(type==\"peri\"){\n",
    "    comparisons <- c(\"sano\",\"periapicale\")\n",
    "    }else{\n",
    "    comparisons <- c(\"necrosi\",\"periapicale\")\n",
    "    }\n",
    "p <- ggboxplot(data, x = \"status\", y = \"Abundance\",  id = \"sample\", add = \"jitter\", repel =\"TRUE\" ,\n",
    " color = \"status\", line.color = \"gray\", line.size = 0.4,\n",
    " palette = \"Set2\",ylab='Abundance (log10)')+\n",
    "facet_wrap(as.formula(paste(\"~\",level))) +\n",
    "rotate_x_text(45)+\n",
    "  #stat_compare_means(comparisons = comparisons, hide.ns = FALSE, paired = FALSE, vjust = 1.5)+\n",
    "  #stat_compare_means(label.y = 3 ) \n",
    "theme(plot.margin = unit(c(3,3,3,3), \"lines\"),axis.text=element_text(size=8),strip.text.x = element_text(size = 8))\n",
    "\n",
    "tiff(paste(\"risultati_sklearn/gruppi/deseq/DA_\",level,\"_\",type,\"_status_boxplot.tiff\"), height=20, width=30, units=\"cm\", res=300)\n",
    "print(p)\n",
    "dev.off()\n",
    "    }\n",
    "    }\n",
    "}"
   ]
  },
  {
   "cell_type": "code",
   "execution_count": 133,
   "id": "a208e262-9fb9-46c2-b74a-b7ecb78a49bb",
   "metadata": {},
   "outputs": [
    {
     "data": {
      "text/html": [
       "<strong>png:</strong> 2"
      ],
      "text/latex": [
       "\\textbf{png:} 2"
      ],
      "text/markdown": [
       "**png:** 2"
      ],
      "text/plain": [
       "png \n",
       "  2 "
      ]
     },
     "metadata": {},
     "output_type": "display_data"
    }
   ],
   "source": [
    "level <- \"Genus\"\n",
    "#filter <- c(\"g__Pseudoramibacter\",\"g__Lautropia\",\"g__Olsenella\",\"g__Slackia\",\"g__Mycoplasma\",\"g__Enterococcus\",\n",
    "#\"g__Mogibacterium\",\"g__Peptostreptococcaceae_[XI][G-1]\",\"g__Bacteroidetes_[G-5]\",\"g__Tannerella\",\"g__Dialister\",\"g__Alloprevotella\"\n",
    "#,\"g__Campylobacter\",\"g__Peptostreptococcus\",\"g__Bacteroidales_[G-2]\",\"g__Lactobacillus\",\"g__Paracoccus\")\n",
    "\n",
    "filter_green <-c(\"g__Olsenella\",\"g__Pseudoramibacter\",\"g__Slackia\",\"g__Mogibacterium\",\n",
    "                 \"g__Dialister\",\"g__Peptostreptococcus\")#,\"g__Atopobium\",\"g__Enterococcus\",\"g__Pseudomonas\",\"g__Peptostreptococcaceae_[XI][G-1]\",\"g__Lachnospiraceae_[G-2]\")\n",
    "phy_agg <- microbiome::aggregate_taxa(phy.peri, level)\n",
    "\n",
    "ph <- microbiome::transform(phy_agg, \"log10\")\n",
    "ph <- prune_taxa(filter_green,ph)\n",
    "ph <- subset_taxa(ph, level != \"Unknown\" )\n",
    "data <- psmelt(ph)\n",
    "\n",
    "comparisons <- c(\"sano\", \"periapicale\")\n",
    "p <- ggpaired(data, x = \"status\", y = \"Abundance\",  id = \"sample\", add = \"jitter\", repel =\"TRUE\" ,\n",
    " color = \"status\", line.color = \"gray\", line.size = 0.5,\n",
    " palette = \"Set2\",ylab='Abundance (log10)')+\n",
    "facet_wrap(~Family+Genus) +\n",
    "rotate_x_text(45)+\n",
    "  stat_compare_means(comparisons = comparisons, label = \"p.signif\", hide.ns = TRUE, paired = TRUE, vjust = 1.5)+\n",
    "theme(plot.margin = unit(c(3,3,3,3), \"lines\"),axis.text=element_text(size=8),strip.text.x = element_text(size = 8))\n",
    "\n",
    "tiff(paste(\"risultati_sklearn/gruppi/deseq/DA_\",level,\"_status_boxplot_up_green.tiff\"), height=20, width=30, units=\"cm\", res=300)\n",
    "print(p)\n",
    "dev.off()"
   ]
  },
  {
   "cell_type": "code",
   "execution_count": 136,
   "id": "4ea69aa3-ab70-4f7a-84c3-e22715779af4",
   "metadata": {},
   "outputs": [
    {
     "data": {
      "text/html": [
       "<strong>png:</strong> 2"
      ],
      "text/latex": [
       "\\textbf{png:} 2"
      ],
      "text/markdown": [
       "**png:** 2"
      ],
      "text/plain": [
       "png \n",
       "  2 "
      ]
     },
     "metadata": {},
     "output_type": "display_data"
    }
   ],
   "source": [
    "phy.status <- \n",
    "phy_agg <- microbiome::aggregate_taxa(phy, level)\n",
    "\n",
    "ph <- microbiome::transform(phy_agg, \"log10\")\n",
    "ph <- prune_taxa(filter_green,ph)\n",
    "#ph <- subset_samples(ph, sample %in% c(subset(sample_data(ph),status=='periapicale')$sample))#,\"necrosi\"))\n",
    "data <- psmelt(ph)\n",
    "                     \n",
    "p <- ggbarplot(data, x = \"sample\", y = \"Abundance\",  id = \"sample\",#, add = \"jitter\", repel ,\n",
    " color = \"status\", line.color = \"gray\", line.size = 0.4,\n",
    " palette = \"Set2\",ylab='Abundance (log10)')+\n",
    "facet_grid(type~Phylum+Family+Genus) +\n",
    "rotate_x_text(45)+\n",
    "  #stat_compare_means(comparisons = comparisons, label = \"p.signif\", hide.ns = TRUE, paired = TRUE, vjust = 1.5)+\n",
    "theme(plot.margin = unit(c(3,3,3,3), \"lines\"),axis.text=element_text(size=8),strip.text.x = element_text(size = 8))\n",
    "\n",
    "tiff(paste(\"risultati_sklearn//gruppi/deseq/DA_\",level,\"_status_green.tiff\"), height=20, width=30, units=\"cm\", res=300)\n",
    "print(p)\n",
    "dev.off()"
   ]
  }
 ],
 "metadata": {
  "kernelspec": {
   "display_name": "R",
   "language": "R",
   "name": "ir"
  },
  "language_info": {
   "codemirror_mode": "r",
   "file_extension": ".r",
   "mimetype": "text/x-r-source",
   "name": "R",
   "pygments_lexer": "r",
   "version": "4.1.2"
  },
  "toc-showtags": false
 },
 "nbformat": 4,
 "nbformat_minor": 5
}
